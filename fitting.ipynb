{
 "cells": [
  {
   "cell_type": "code",
   "execution_count": 1,
   "metadata": {},
   "outputs": [],
   "source": [
    "import pandas as pd"
   ]
  },
  {
   "cell_type": "code",
   "execution_count": 2,
   "metadata": {},
   "outputs": [],
   "source": [
    "data = pd.read_excel(\"strategy_results_train.xlsx\")\n"
   ]
  },
  {
   "cell_type": "code",
   "execution_count": 3,
   "metadata": {},
   "outputs": [
    {
     "data": {
      "text/html": [
       "<div>\n",
       "<style scoped>\n",
       "    .dataframe tbody tr th:only-of-type {\n",
       "        vertical-align: middle;\n",
       "    }\n",
       "\n",
       "    .dataframe tbody tr th {\n",
       "        vertical-align: top;\n",
       "    }\n",
       "\n",
       "    .dataframe thead th {\n",
       "        text-align: right;\n",
       "    }\n",
       "</style>\n",
       "<table border=\"1\" class=\"dataframe\">\n",
       "  <thead>\n",
       "    <tr style=\"text-align: right;\">\n",
       "      <th></th>\n",
       "      <th>id</th>\n",
       "      <th>label</th>\n",
       "      <th>date</th>\n",
       "      <th>open</th>\n",
       "      <th>high</th>\n",
       "      <th>low</th>\n",
       "      <th>close</th>\n",
       "      <th>volume</th>\n",
       "      <th>MA5</th>\n",
       "      <th>MA10</th>\n",
       "      <th>MA15</th>\n",
       "      <th>APO</th>\n",
       "      <th>RSI</th>\n",
       "    </tr>\n",
       "  </thead>\n",
       "  <tbody>\n",
       "    <tr>\n",
       "      <td>0</td>\n",
       "      <td>SHSE.600085_201501</td>\n",
       "      <td>0</td>\n",
       "      <td>2014-11-07</td>\n",
       "      <td>25.110001</td>\n",
       "      <td>26.049999</td>\n",
       "      <td>24.020000</td>\n",
       "      <td>24.15</td>\n",
       "      <td>NaN</td>\n",
       "      <td>23.852</td>\n",
       "      <td>23.258</td>\n",
       "      <td>22.184667</td>\n",
       "      <td>1.526731</td>\n",
       "      <td>79.766717</td>\n",
       "    </tr>\n",
       "    <tr>\n",
       "      <td>1</td>\n",
       "      <td>SHSE.600085_201502</td>\n",
       "      <td>1</td>\n",
       "      <td>2014-11-20</td>\n",
       "      <td>23.750000</td>\n",
       "      <td>23.799999</td>\n",
       "      <td>23.389999</td>\n",
       "      <td>23.58</td>\n",
       "      <td>NaN</td>\n",
       "      <td>23.606</td>\n",
       "      <td>23.973</td>\n",
       "      <td>24.116666</td>\n",
       "      <td>-0.569615</td>\n",
       "      <td>33.428057</td>\n",
       "    </tr>\n",
       "    <tr>\n",
       "      <td>2</td>\n",
       "      <td>SHSE.600085_201503</td>\n",
       "      <td>1</td>\n",
       "      <td>2014-11-28</td>\n",
       "      <td>10.440000</td>\n",
       "      <td>10.440000</td>\n",
       "      <td>9.450000</td>\n",
       "      <td>9.60</td>\n",
       "      <td>NaN</td>\n",
       "      <td>9.470</td>\n",
       "      <td>8.980</td>\n",
       "      <td>8.670667</td>\n",
       "      <td>0.412436</td>\n",
       "      <td>81.207028</td>\n",
       "    </tr>\n",
       "    <tr>\n",
       "      <td>3</td>\n",
       "      <td>SHSE.600085_201504</td>\n",
       "      <td>1</td>\n",
       "      <td>2014-12-03</td>\n",
       "      <td>27.110001</td>\n",
       "      <td>27.440001</td>\n",
       "      <td>26.639999</td>\n",
       "      <td>27.00</td>\n",
       "      <td>NaN</td>\n",
       "      <td>26.754</td>\n",
       "      <td>26.567</td>\n",
       "      <td>26.408000</td>\n",
       "      <td>-0.117179</td>\n",
       "      <td>55.474798</td>\n",
       "    </tr>\n",
       "    <tr>\n",
       "      <td>4</td>\n",
       "      <td>SHSE.600085_201505</td>\n",
       "      <td>1</td>\n",
       "      <td>2014-12-05</td>\n",
       "      <td>10.480000</td>\n",
       "      <td>10.990000</td>\n",
       "      <td>10.050000</td>\n",
       "      <td>10.98</td>\n",
       "      <td>NaN</td>\n",
       "      <td>10.534</td>\n",
       "      <td>10.280</td>\n",
       "      <td>9.966000</td>\n",
       "      <td>0.302115</td>\n",
       "      <td>58.361449</td>\n",
       "    </tr>\n",
       "  </tbody>\n",
       "</table>\n",
       "</div>"
      ],
      "text/plain": [
       "                   id  label       date       open       high        low  \\\n",
       "0  SHSE.600085_201501      0 2014-11-07  25.110001  26.049999  24.020000   \n",
       "1  SHSE.600085_201502      1 2014-11-20  23.750000  23.799999  23.389999   \n",
       "2  SHSE.600085_201503      1 2014-11-28  10.440000  10.440000   9.450000   \n",
       "3  SHSE.600085_201504      1 2014-12-03  27.110001  27.440001  26.639999   \n",
       "4  SHSE.600085_201505      1 2014-12-05  10.480000  10.990000  10.050000   \n",
       "\n",
       "   close  volume     MA5    MA10       MA15       APO        RSI  \n",
       "0  24.15     NaN  23.852  23.258  22.184667  1.526731  79.766717  \n",
       "1  23.58     NaN  23.606  23.973  24.116666 -0.569615  33.428057  \n",
       "2   9.60     NaN   9.470   8.980   8.670667  0.412436  81.207028  \n",
       "3  27.00     NaN  26.754  26.567  26.408000 -0.117179  55.474798  \n",
       "4  10.98     NaN  10.534  10.280   9.966000  0.302115  58.361449  "
      ]
     },
     "execution_count": 3,
     "metadata": {},
     "output_type": "execute_result"
    }
   ],
   "source": [
    "data.head()"
   ]
  },
  {
   "cell_type": "code",
   "execution_count": 4,
   "metadata": {},
   "outputs": [],
   "source": [
    "data2 = pd.concat( [data.iloc[:, 1], data.iloc[:, 8:]], axis=1)"
   ]
  },
  {
   "cell_type": "code",
   "execution_count": 5,
   "metadata": {},
   "outputs": [
    {
     "data": {
      "text/html": [
       "<div>\n",
       "<style scoped>\n",
       "    .dataframe tbody tr th:only-of-type {\n",
       "        vertical-align: middle;\n",
       "    }\n",
       "\n",
       "    .dataframe tbody tr th {\n",
       "        vertical-align: top;\n",
       "    }\n",
       "\n",
       "    .dataframe thead th {\n",
       "        text-align: right;\n",
       "    }\n",
       "</style>\n",
       "<table border=\"1\" class=\"dataframe\">\n",
       "  <thead>\n",
       "    <tr style=\"text-align: right;\">\n",
       "      <th></th>\n",
       "      <th>label</th>\n",
       "      <th>MA5</th>\n",
       "      <th>MA10</th>\n",
       "      <th>MA15</th>\n",
       "      <th>APO</th>\n",
       "      <th>RSI</th>\n",
       "    </tr>\n",
       "  </thead>\n",
       "  <tbody>\n",
       "    <tr>\n",
       "      <td>0</td>\n",
       "      <td>0</td>\n",
       "      <td>23.852</td>\n",
       "      <td>23.258</td>\n",
       "      <td>22.184667</td>\n",
       "      <td>1.526731</td>\n",
       "      <td>79.766717</td>\n",
       "    </tr>\n",
       "    <tr>\n",
       "      <td>1</td>\n",
       "      <td>1</td>\n",
       "      <td>23.606</td>\n",
       "      <td>23.973</td>\n",
       "      <td>24.116666</td>\n",
       "      <td>-0.569615</td>\n",
       "      <td>33.428057</td>\n",
       "    </tr>\n",
       "    <tr>\n",
       "      <td>2</td>\n",
       "      <td>1</td>\n",
       "      <td>9.470</td>\n",
       "      <td>8.980</td>\n",
       "      <td>8.670667</td>\n",
       "      <td>0.412436</td>\n",
       "      <td>81.207028</td>\n",
       "    </tr>\n",
       "    <tr>\n",
       "      <td>3</td>\n",
       "      <td>1</td>\n",
       "      <td>26.754</td>\n",
       "      <td>26.567</td>\n",
       "      <td>26.408000</td>\n",
       "      <td>-0.117179</td>\n",
       "      <td>55.474798</td>\n",
       "    </tr>\n",
       "    <tr>\n",
       "      <td>4</td>\n",
       "      <td>1</td>\n",
       "      <td>10.534</td>\n",
       "      <td>10.280</td>\n",
       "      <td>9.966000</td>\n",
       "      <td>0.302115</td>\n",
       "      <td>58.361449</td>\n",
       "    </tr>\n",
       "  </tbody>\n",
       "</table>\n",
       "</div>"
      ],
      "text/plain": [
       "   label     MA5    MA10       MA15       APO        RSI\n",
       "0      0  23.852  23.258  22.184667  1.526731  79.766717\n",
       "1      1  23.606  23.973  24.116666 -0.569615  33.428057\n",
       "2      1   9.470   8.980   8.670667  0.412436  81.207028\n",
       "3      1  26.754  26.567  26.408000 -0.117179  55.474798\n",
       "4      1  10.534  10.280   9.966000  0.302115  58.361449"
      ]
     },
     "execution_count": 5,
     "metadata": {},
     "output_type": "execute_result"
    }
   ],
   "source": [
    "data2.head()"
   ]
  },
  {
   "cell_type": "code",
   "execution_count": 6,
   "metadata": {},
   "outputs": [
    {
     "data": {
      "text/plain": [
       "label    False\n",
       "MA5       True\n",
       "MA10      True\n",
       "MA15      True\n",
       "APO       True\n",
       "RSI       True\n",
       "dtype: bool"
      ]
     },
     "execution_count": 6,
     "metadata": {},
     "output_type": "execute_result"
    }
   ],
   "source": [
    "data2.isnull().any()"
   ]
  },
  {
   "cell_type": "code",
   "execution_count": 7,
   "metadata": {},
   "outputs": [
    {
     "data": {
      "text/plain": [
       "label    False\n",
       "MA5      False\n",
       "MA10     False\n",
       "MA15     False\n",
       "APO      False\n",
       "RSI      False\n",
       "dtype: bool"
      ]
     },
     "execution_count": 7,
     "metadata": {},
     "output_type": "execute_result"
    }
   ],
   "source": [
    "data2 = data2.dropna(axis = 0)\n",
    "data2.isnull().any()"
   ]
  },
  {
   "cell_type": "code",
   "execution_count": 8,
   "metadata": {},
   "outputs": [
    {
     "data": {
      "text/plain": [
       "0        0\n",
       "1        1\n",
       "2        1\n",
       "3        1\n",
       "4        1\n",
       "        ..\n",
       "31942    1\n",
       "31943    0\n",
       "31944    0\n",
       "31945    0\n",
       "31946    0\n",
       "Name: label, Length: 31814, dtype: int64"
      ]
     },
     "execution_count": 8,
     "metadata": {},
     "output_type": "execute_result"
    }
   ],
   "source": [
    "y = data2[\"label\"]\n",
    "y"
   ]
  },
  {
   "cell_type": "code",
   "execution_count": 9,
   "metadata": {},
   "outputs": [],
   "source": [
    "X = data2.iloc[:, 1:]\n"
   ]
  },
  {
   "cell_type": "code",
   "execution_count": 10,
   "metadata": {},
   "outputs": [
    {
     "data": {
      "text/html": [
       "<div>\n",
       "<style scoped>\n",
       "    .dataframe tbody tr th:only-of-type {\n",
       "        vertical-align: middle;\n",
       "    }\n",
       "\n",
       "    .dataframe tbody tr th {\n",
       "        vertical-align: top;\n",
       "    }\n",
       "\n",
       "    .dataframe thead th {\n",
       "        text-align: right;\n",
       "    }\n",
       "</style>\n",
       "<table border=\"1\" class=\"dataframe\">\n",
       "  <thead>\n",
       "    <tr style=\"text-align: right;\">\n",
       "      <th></th>\n",
       "      <th>MA5</th>\n",
       "      <th>MA10</th>\n",
       "      <th>MA15</th>\n",
       "      <th>APO</th>\n",
       "      <th>RSI</th>\n",
       "    </tr>\n",
       "  </thead>\n",
       "  <tbody>\n",
       "    <tr>\n",
       "      <td>0</td>\n",
       "      <td>23.852000</td>\n",
       "      <td>23.258000</td>\n",
       "      <td>22.184667</td>\n",
       "      <td>1.526731</td>\n",
       "      <td>79.766717</td>\n",
       "    </tr>\n",
       "    <tr>\n",
       "      <td>1</td>\n",
       "      <td>23.606000</td>\n",
       "      <td>23.973000</td>\n",
       "      <td>24.116666</td>\n",
       "      <td>-0.569615</td>\n",
       "      <td>33.428057</td>\n",
       "    </tr>\n",
       "    <tr>\n",
       "      <td>2</td>\n",
       "      <td>9.470000</td>\n",
       "      <td>8.980000</td>\n",
       "      <td>8.670667</td>\n",
       "      <td>0.412436</td>\n",
       "      <td>81.207028</td>\n",
       "    </tr>\n",
       "    <tr>\n",
       "      <td>3</td>\n",
       "      <td>26.754000</td>\n",
       "      <td>26.567000</td>\n",
       "      <td>26.408000</td>\n",
       "      <td>-0.117179</td>\n",
       "      <td>55.474798</td>\n",
       "    </tr>\n",
       "    <tr>\n",
       "      <td>4</td>\n",
       "      <td>10.534000</td>\n",
       "      <td>10.280000</td>\n",
       "      <td>9.966000</td>\n",
       "      <td>0.302115</td>\n",
       "      <td>58.361449</td>\n",
       "    </tr>\n",
       "    <tr>\n",
       "      <td>...</td>\n",
       "      <td>...</td>\n",
       "      <td>...</td>\n",
       "      <td>...</td>\n",
       "      <td>...</td>\n",
       "      <td>...</td>\n",
       "    </tr>\n",
       "    <tr>\n",
       "      <td>31942</td>\n",
       "      <td>21.408000</td>\n",
       "      <td>21.378000</td>\n",
       "      <td>21.266667</td>\n",
       "      <td>1.101154</td>\n",
       "      <td>53.994073</td>\n",
       "    </tr>\n",
       "    <tr>\n",
       "      <td>31943</td>\n",
       "      <td>57.284000</td>\n",
       "      <td>58.160000</td>\n",
       "      <td>59.323333</td>\n",
       "      <td>0.493205</td>\n",
       "      <td>46.664631</td>\n",
       "    </tr>\n",
       "    <tr>\n",
       "      <td>31944</td>\n",
       "      <td>13.200000</td>\n",
       "      <td>13.459000</td>\n",
       "      <td>13.738667</td>\n",
       "      <td>0.259231</td>\n",
       "      <td>46.846718</td>\n",
       "    </tr>\n",
       "    <tr>\n",
       "      <td>31945</td>\n",
       "      <td>13.822000</td>\n",
       "      <td>14.308000</td>\n",
       "      <td>14.483333</td>\n",
       "      <td>0.139936</td>\n",
       "      <td>40.041968</td>\n",
       "    </tr>\n",
       "    <tr>\n",
       "      <td>31946</td>\n",
       "      <td>49.150001</td>\n",
       "      <td>50.371001</td>\n",
       "      <td>51.181334</td>\n",
       "      <td>0.762821</td>\n",
       "      <td>39.348613</td>\n",
       "    </tr>\n",
       "  </tbody>\n",
       "</table>\n",
       "<p>31814 rows × 5 columns</p>\n",
       "</div>"
      ],
      "text/plain": [
       "             MA5       MA10       MA15       APO        RSI\n",
       "0      23.852000  23.258000  22.184667  1.526731  79.766717\n",
       "1      23.606000  23.973000  24.116666 -0.569615  33.428057\n",
       "2       9.470000   8.980000   8.670667  0.412436  81.207028\n",
       "3      26.754000  26.567000  26.408000 -0.117179  55.474798\n",
       "4      10.534000  10.280000   9.966000  0.302115  58.361449\n",
       "...          ...        ...        ...       ...        ...\n",
       "31942  21.408000  21.378000  21.266667  1.101154  53.994073\n",
       "31943  57.284000  58.160000  59.323333  0.493205  46.664631\n",
       "31944  13.200000  13.459000  13.738667  0.259231  46.846718\n",
       "31945  13.822000  14.308000  14.483333  0.139936  40.041968\n",
       "31946  49.150001  50.371001  51.181334  0.762821  39.348613\n",
       "\n",
       "[31814 rows x 5 columns]"
      ]
     },
     "execution_count": 10,
     "metadata": {},
     "output_type": "execute_result"
    }
   ],
   "source": [
    "X"
   ]
  },
  {
   "cell_type": "code",
   "execution_count": 11,
   "metadata": {},
   "outputs": [],
   "source": [
    "X = X.dropna(axis = 0)\n"
   ]
  },
  {
   "cell_type": "code",
   "execution_count": 12,
   "metadata": {},
   "outputs": [
    {
     "data": {
      "text/plain": [
       "MA5     False\n",
       "MA10    False\n",
       "MA15    False\n",
       "APO     False\n",
       "RSI     False\n",
       "dtype: bool"
      ]
     },
     "execution_count": 12,
     "metadata": {},
     "output_type": "execute_result"
    }
   ],
   "source": [
    "X.isnull().any()\n"
   ]
  },
  {
   "cell_type": "code",
   "execution_count": 13,
   "metadata": {},
   "outputs": [
    {
     "data": {
      "text/plain": [
       "(31814, 5)"
      ]
     },
     "execution_count": 13,
     "metadata": {},
     "output_type": "execute_result"
    }
   ],
   "source": [
    "X.shape\n"
   ]
  },
  {
   "cell_type": "code",
   "execution_count": 14,
   "metadata": {},
   "outputs": [
    {
     "name": "stderr",
     "output_type": "stream",
     "text": [
      "/Users/chenxuanyu/opt/anaconda3/lib/python3.6/site-packages/sklearn/ensemble/forest.py:245: FutureWarning: The default value of n_estimators will change from 10 in version 0.20 to 100 in 0.22.\n",
      "  \"10 in version 0.20 to 100 in 0.22.\", FutureWarning)\n"
     ]
    },
    {
     "data": {
      "text/plain": [
       "RandomForestClassifier(bootstrap=True, class_weight=None, criterion='gini',\n",
       "                       max_depth=None, max_features='auto', max_leaf_nodes=None,\n",
       "                       min_impurity_decrease=0.0, min_impurity_split=None,\n",
       "                       min_samples_leaf=1, min_samples_split=2,\n",
       "                       min_weight_fraction_leaf=0.0, n_estimators=10,\n",
       "                       n_jobs=None, oob_score=False, random_state=None,\n",
       "                       verbose=0, warm_start=False)"
      ]
     },
     "execution_count": 14,
     "metadata": {},
     "output_type": "execute_result"
    }
   ],
   "source": [
    "from sklearn.ensemble import RandomForestClassifier\n",
    "clf = RandomForestClassifier()\n",
    "clf.fit(X, y)"
   ]
  },
  {
   "cell_type": "code",
   "execution_count": 15,
   "metadata": {},
   "outputs": [],
   "source": [
    "\n",
    "testdata = pd.read_excel(\"sampleSubmission.xlsx\")\n"
   ]
  },
  {
   "cell_type": "code",
   "execution_count": 16,
   "metadata": {},
   "outputs": [
    {
     "data": {
      "text/plain": [
       "id       False\n",
       "label    False\n",
       "MA5      False\n",
       "MA10     False\n",
       "MA15     False\n",
       "APO      False\n",
       "RSI      False\n",
       "dtype: bool"
      ]
     },
     "execution_count": 16,
     "metadata": {},
     "output_type": "execute_result"
    }
   ],
   "source": [
    "testdata = testdata.fillna(0)\n",
    "testdata.isnull().any()\n"
   ]
  },
  {
   "cell_type": "code",
   "execution_count": 17,
   "metadata": {},
   "outputs": [
    {
     "data": {
      "text/html": [
       "<div>\n",
       "<style scoped>\n",
       "    .dataframe tbody tr th:only-of-type {\n",
       "        vertical-align: middle;\n",
       "    }\n",
       "\n",
       "    .dataframe tbody tr th {\n",
       "        vertical-align: top;\n",
       "    }\n",
       "\n",
       "    .dataframe thead th {\n",
       "        text-align: right;\n",
       "    }\n",
       "</style>\n",
       "<table border=\"1\" class=\"dataframe\">\n",
       "  <thead>\n",
       "    <tr style=\"text-align: right;\">\n",
       "      <th></th>\n",
       "      <th>MA5</th>\n",
       "      <th>MA10</th>\n",
       "      <th>MA15</th>\n",
       "      <th>APO</th>\n",
       "      <th>RSI</th>\n",
       "    </tr>\n",
       "  </thead>\n",
       "  <tbody>\n",
       "    <tr>\n",
       "      <td>0</td>\n",
       "      <td>16.336000</td>\n",
       "      <td>16.654000</td>\n",
       "      <td>16.828000</td>\n",
       "      <td>-0.221410</td>\n",
       "      <td>37.459410</td>\n",
       "    </tr>\n",
       "    <tr>\n",
       "      <td>1</td>\n",
       "      <td>7.912000</td>\n",
       "      <td>7.959000</td>\n",
       "      <td>8.012667</td>\n",
       "      <td>-0.251410</td>\n",
       "      <td>48.659059</td>\n",
       "    </tr>\n",
       "    <tr>\n",
       "      <td>2</td>\n",
       "      <td>4.974000</td>\n",
       "      <td>5.024000</td>\n",
       "      <td>5.083333</td>\n",
       "      <td>-0.191218</td>\n",
       "      <td>40.706509</td>\n",
       "    </tr>\n",
       "    <tr>\n",
       "      <td>3</td>\n",
       "      <td>27.258000</td>\n",
       "      <td>27.573000</td>\n",
       "      <td>28.198000</td>\n",
       "      <td>-0.695641</td>\n",
       "      <td>40.796678</td>\n",
       "    </tr>\n",
       "    <tr>\n",
       "      <td>4</td>\n",
       "      <td>6.826000</td>\n",
       "      <td>6.837000</td>\n",
       "      <td>6.889333</td>\n",
       "      <td>-0.022564</td>\n",
       "      <td>44.265448</td>\n",
       "    </tr>\n",
       "    <tr>\n",
       "      <td>...</td>\n",
       "      <td>...</td>\n",
       "      <td>...</td>\n",
       "      <td>...</td>\n",
       "      <td>...</td>\n",
       "      <td>...</td>\n",
       "    </tr>\n",
       "    <tr>\n",
       "      <td>11358</td>\n",
       "      <td>15.524000</td>\n",
       "      <td>15.593000</td>\n",
       "      <td>15.590667</td>\n",
       "      <td>0.047051</td>\n",
       "      <td>51.837162</td>\n",
       "    </tr>\n",
       "    <tr>\n",
       "      <td>11359</td>\n",
       "      <td>69.151999</td>\n",
       "      <td>70.108999</td>\n",
       "      <td>70.803999</td>\n",
       "      <td>-1.106475</td>\n",
       "      <td>45.702079</td>\n",
       "    </tr>\n",
       "    <tr>\n",
       "      <td>11360</td>\n",
       "      <td>11.792000</td>\n",
       "      <td>12.292000</td>\n",
       "      <td>12.246667</td>\n",
       "      <td>-0.411474</td>\n",
       "      <td>30.779419</td>\n",
       "    </tr>\n",
       "    <tr>\n",
       "      <td>11361</td>\n",
       "      <td>27.964000</td>\n",
       "      <td>28.356000</td>\n",
       "      <td>28.068000</td>\n",
       "      <td>-0.212244</td>\n",
       "      <td>41.318681</td>\n",
       "    </tr>\n",
       "    <tr>\n",
       "      <td>11362</td>\n",
       "      <td>81.462000</td>\n",
       "      <td>82.899000</td>\n",
       "      <td>84.118667</td>\n",
       "      <td>-0.380321</td>\n",
       "      <td>48.329598</td>\n",
       "    </tr>\n",
       "  </tbody>\n",
       "</table>\n",
       "<p>11363 rows × 5 columns</p>\n",
       "</div>"
      ],
      "text/plain": [
       "             MA5       MA10       MA15       APO        RSI\n",
       "0      16.336000  16.654000  16.828000 -0.221410  37.459410\n",
       "1       7.912000   7.959000   8.012667 -0.251410  48.659059\n",
       "2       4.974000   5.024000   5.083333 -0.191218  40.706509\n",
       "3      27.258000  27.573000  28.198000 -0.695641  40.796678\n",
       "4       6.826000   6.837000   6.889333 -0.022564  44.265448\n",
       "...          ...        ...        ...       ...        ...\n",
       "11358  15.524000  15.593000  15.590667  0.047051  51.837162\n",
       "11359  69.151999  70.108999  70.803999 -1.106475  45.702079\n",
       "11360  11.792000  12.292000  12.246667 -0.411474  30.779419\n",
       "11361  27.964000  28.356000  28.068000 -0.212244  41.318681\n",
       "11362  81.462000  82.899000  84.118667 -0.380321  48.329598\n",
       "\n",
       "[11363 rows x 5 columns]"
      ]
     },
     "execution_count": 17,
     "metadata": {},
     "output_type": "execute_result"
    }
   ],
   "source": [
    "testdata.iloc[:, 2:]\n",
    "\n",
    "\n"
   ]
  },
  {
   "cell_type": "code",
   "execution_count": 18,
   "metadata": {},
   "outputs": [],
   "source": [
    "result = clf.predict(testdata.iloc[:, 2:])\n"
   ]
  },
  {
   "cell_type": "code",
   "execution_count": 19,
   "metadata": {},
   "outputs": [],
   "source": [
    "pd.DataFrame(result).to_excel(\"prediction.xlsx\", index=False)"
   ]
  },
  {
   "cell_type": "code",
   "execution_count": null,
   "metadata": {},
   "outputs": [],
   "source": []
  }
 ],
 "metadata": {
  "kernelspec": {
   "display_name": "Python 3",
   "language": "python",
   "name": "python3"
  },
  "language_info": {
   "codemirror_mode": {
    "name": "ipython",
    "version": 3
   },
   "file_extension": ".py",
   "mimetype": "text/x-python",
   "name": "python",
   "nbconvert_exporter": "python",
   "pygments_lexer": "ipython3",
   "version": "3.6.9"
  }
 },
 "nbformat": 4,
 "nbformat_minor": 2
}
