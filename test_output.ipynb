{
 "cells": [
  {
   "cell_type": "code",
   "execution_count": 1,
   "metadata": {},
   "outputs": [],
   "source": [
    "import pandas as pd\n",
    "import datetime"
   ]
  },
  {
   "cell_type": "code",
   "execution_count": 2,
   "metadata": {},
   "outputs": [],
   "source": [
    "testset = pd.read_excel(\"sampleSubmission.xlsx\")"
   ]
  },
  {
   "cell_type": "code",
   "execution_count": 3,
   "metadata": {},
   "outputs": [
    {
     "data": {
      "text/html": [
       "<div>\n",
       "<style scoped>\n",
       "    .dataframe tbody tr th:only-of-type {\n",
       "        vertical-align: middle;\n",
       "    }\n",
       "\n",
       "    .dataframe tbody tr th {\n",
       "        vertical-align: top;\n",
       "    }\n",
       "\n",
       "    .dataframe thead th {\n",
       "        text-align: right;\n",
       "    }\n",
       "</style>\n",
       "<table border=\"1\" class=\"dataframe\">\n",
       "  <thead>\n",
       "    <tr style=\"text-align: right;\">\n",
       "      <th></th>\n",
       "      <th>id</th>\n",
       "      <th>label</th>\n",
       "    </tr>\n",
       "  </thead>\n",
       "  <tbody>\n",
       "    <tr>\n",
       "      <td>0</td>\n",
       "      <td>SHSE.600085_201901</td>\n",
       "      <td>0</td>\n",
       "    </tr>\n",
       "    <tr>\n",
       "      <td>1</td>\n",
       "      <td>SHSE.600085_201902</td>\n",
       "      <td>0</td>\n",
       "    </tr>\n",
       "    <tr>\n",
       "      <td>2</td>\n",
       "      <td>SHSE.600085_201903</td>\n",
       "      <td>0</td>\n",
       "    </tr>\n",
       "    <tr>\n",
       "      <td>3</td>\n",
       "      <td>SHSE.600085_201904</td>\n",
       "      <td>0</td>\n",
       "    </tr>\n",
       "    <tr>\n",
       "      <td>4</td>\n",
       "      <td>SHSE.600085_201905</td>\n",
       "      <td>0</td>\n",
       "    </tr>\n",
       "  </tbody>\n",
       "</table>\n",
       "</div>"
      ],
      "text/plain": [
       "                   id  label\n",
       "0  SHSE.600085_201901      0\n",
       "1  SHSE.600085_201902      0\n",
       "2  SHSE.600085_201903      0\n",
       "3  SHSE.600085_201904      0\n",
       "4  SHSE.600085_201905      0"
      ]
     },
     "execution_count": 3,
     "metadata": {},
     "output_type": "execute_result"
    }
   ],
   "source": [
    "testset.head()"
   ]
  },
  {
   "cell_type": "code",
   "execution_count": 4,
   "metadata": {},
   "outputs": [
    {
     "name": "stdout",
     "output_type": "stream",
     "text": [
      "0 2020-06-17 06:14:31.002405\n",
      "1000 2020-06-17 06:17:07.317643\n",
      "2000 2020-06-17 06:19:33.900822\n",
      "3000 2020-06-17 06:22:06.088284\n",
      "4000 2020-06-17 06:24:22.473582\n",
      "5000 2020-06-17 06:27:04.110057\n",
      "6000 2020-06-17 06:29:42.482552\n",
      "7000 2020-06-17 06:32:16.928037\n",
      "8000 2020-06-17 06:34:55.660749\n",
      "9000 2020-06-17 06:37:42.391518\n",
      "10000 2020-06-17 06:40:13.319368\n",
      "11000 2020-06-17 06:42:24.480532\n"
     ]
    }
   ],
   "source": [
    "temp = []\n",
    "for i in range(0, testset.shape[0]):\n",
    "# for i in range(0, 10):\n",
    "    if(i%1000==0):\n",
    "        print(i, datetime.datetime.now())\n",
    "    trade_company = testset.iloc[i][0].split(\"_\")[0]\n",
    "    trade_date    = testset.iloc[i][0].split(\"_\")[1]\n",
    "    df = pd.read_excel(trade_company+\".xlsx\")\n",
    "    trade_date_datetime = datetime.date(int(trade_date[:4]), int(trade_date[4:]), 1) - datetime.timedelta(days=1)\n",
    "    lower_index = 0\n",
    "    for index in range(0, df.shape[0]):\n",
    "        if(df[\"date\"].iloc[index]< trade_date_datetime):\n",
    "            lower_index = index\n",
    "        else:\n",
    "            break\n",
    "#     print(list(df.iloc[lower_index, :]))\n",
    "    if(lower_index==0):\n",
    "        temp.append(dash = [\"-\",\"\",\"\",\"\",\"\",\"\",\"\",\"\",\"\"])\n",
    "    else:\n",
    "        temp.append(list(df.iloc[lower_index, :]))\n",
    "        "
   ]
  },
  {
   "cell_type": "code",
   "execution_count": 5,
   "metadata": {},
   "outputs": [],
   "source": [
    "pd.DataFrame(temp).to_excel(\"test_output.xlsx\", index=False)"
   ]
  },
  {
   "cell_type": "code",
   "execution_count": 6,
   "metadata": {},
   "outputs": [
    {
     "data": {
      "text/plain": [
       "[Timestamp('2018-12-28 00:00:00'),\n",
       " 27.18000030517578,\n",
       " 27.57999992370605,\n",
       " 26.98999977111816,\n",
       " 27.5,\n",
       " 3575585,\n",
       " 27.25800018310547,\n",
       " 27.57299995422363,\n",
       " 28.19799995422363,\n",
       " -0.6956409185360641,\n",
       " 40.79667783176571]"
      ]
     },
     "execution_count": 6,
     "metadata": {},
     "output_type": "execute_result"
    }
   ],
   "source": [
    "temp[0]"
   ]
  },
  {
   "cell_type": "code",
   "execution_count": 7,
   "metadata": {},
   "outputs": [],
   "source": [
    "dash = [\"-\",\"\",\"\",\"\",\"\",\"\",\"\",\"\",\"\"]"
   ]
  },
  {
   "cell_type": "code",
   "execution_count": null,
   "metadata": {},
   "outputs": [],
   "source": []
  }
 ],
 "metadata": {
  "kernelspec": {
   "display_name": "Python 3",
   "language": "python",
   "name": "python3"
  },
  "language_info": {
   "codemirror_mode": {
    "name": "ipython",
    "version": 3
   },
   "file_extension": ".py",
   "mimetype": "text/x-python",
   "name": "python",
   "nbconvert_exporter": "python",
   "pygments_lexer": "ipython3",
   "version": "3.6.9"
  }
 },
 "nbformat": 4,
 "nbformat_minor": 2
}
